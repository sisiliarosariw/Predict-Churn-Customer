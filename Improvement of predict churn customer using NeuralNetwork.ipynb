{
 "cells": [
  {
   "cell_type": "markdown",
   "metadata": {
    "id": "HGLRvHZuQtEa"
   },
   "source": [
    "Improvements the model using :\n",
    "\n",
    "\n",
    "1.   Add in Class weights\n",
    "2.   Increase Units in Dense layers and Also Increase Number of Layers \n",
    "3.   Add BatchNormalization to Layers \n",
    "4.   Add Dropout after Layers \n",
    "\n"
   ]
  },
  {
   "cell_type": "code",
   "execution_count": 1,
   "metadata": {
    "executionInfo": {
     "elapsed": 3018,
     "status": "ok",
     "timestamp": 1611692992798,
     "user": {
      "displayName": "Ayesha Tabasssum",
      "photoUrl": "",
      "userId": "14062910621117898995"
     },
     "user_tz": -330
    },
    "id": "qpcWiYbVG4o7"
   },
   "outputs": [],
   "source": [
    "import pandas as pd \n",
    "import numpy as np\n",
    "import matplotlib.pyplot as plt\n",
    "import tensorflow as tf\n",
    "from sklearn.preprocessing import LabelEncoder \n",
    "from sklearn.model_selection import train_test_split"
   ]
  },
  {
   "cell_type": "code",
   "execution_count": 2,
   "metadata": {
    "colab": {
     "base_uri": "https://localhost:8080/",
     "height": 156
    },
    "executionInfo": {
     "elapsed": 3549,
     "status": "ok",
     "timestamp": 1611692993918,
     "user": {
      "displayName": "Ayesha Tabasssum",
      "photoUrl": "",
      "userId": "14062910621117898995"
     },
     "user_tz": -330
    },
    "id": "7IMS80ybHOCa",
    "outputId": "5441493f-3d9c-477e-ed1d-ae38257a8996"
   },
   "outputs": [
    {
     "data": {
      "text/html": [
       "<div>\n",
       "<style scoped>\n",
       "    .dataframe tbody tr th:only-of-type {\n",
       "        vertical-align: middle;\n",
       "    }\n",
       "\n",
       "    .dataframe tbody tr th {\n",
       "        vertical-align: top;\n",
       "    }\n",
       "\n",
       "    .dataframe thead th {\n",
       "        text-align: right;\n",
       "    }\n",
       "</style>\n",
       "<table border=\"1\" class=\"dataframe\">\n",
       "  <thead>\n",
       "    <tr style=\"text-align: right;\">\n",
       "      <th></th>\n",
       "      <th>RowNumber</th>\n",
       "      <th>CustomerId</th>\n",
       "      <th>Surname</th>\n",
       "      <th>CreditScore</th>\n",
       "      <th>Geography</th>\n",
       "      <th>Gender</th>\n",
       "      <th>Age</th>\n",
       "      <th>Tenure</th>\n",
       "      <th>Balance</th>\n",
       "      <th>NumOfProducts</th>\n",
       "      <th>HasCrCard</th>\n",
       "      <th>IsActiveMember</th>\n",
       "      <th>EstimatedSalary</th>\n",
       "      <th>Exited</th>\n",
       "    </tr>\n",
       "  </thead>\n",
       "  <tbody>\n",
       "    <tr>\n",
       "      <th>0</th>\n",
       "      <td>1</td>\n",
       "      <td>15634602</td>\n",
       "      <td>Hargrave</td>\n",
       "      <td>619</td>\n",
       "      <td>France</td>\n",
       "      <td>Female</td>\n",
       "      <td>42</td>\n",
       "      <td>2</td>\n",
       "      <td>0.00</td>\n",
       "      <td>1</td>\n",
       "      <td>1</td>\n",
       "      <td>1</td>\n",
       "      <td>101348.88</td>\n",
       "      <td>1</td>\n",
       "    </tr>\n",
       "    <tr>\n",
       "      <th>1</th>\n",
       "      <td>2</td>\n",
       "      <td>15647311</td>\n",
       "      <td>Hill</td>\n",
       "      <td>608</td>\n",
       "      <td>Spain</td>\n",
       "      <td>Female</td>\n",
       "      <td>41</td>\n",
       "      <td>1</td>\n",
       "      <td>83807.86</td>\n",
       "      <td>1</td>\n",
       "      <td>0</td>\n",
       "      <td>1</td>\n",
       "      <td>112542.58</td>\n",
       "      <td>0</td>\n",
       "    </tr>\n",
       "    <tr>\n",
       "      <th>2</th>\n",
       "      <td>3</td>\n",
       "      <td>15619304</td>\n",
       "      <td>Onio</td>\n",
       "      <td>502</td>\n",
       "      <td>France</td>\n",
       "      <td>Female</td>\n",
       "      <td>42</td>\n",
       "      <td>8</td>\n",
       "      <td>159660.80</td>\n",
       "      <td>3</td>\n",
       "      <td>1</td>\n",
       "      <td>0</td>\n",
       "      <td>113931.57</td>\n",
       "      <td>1</td>\n",
       "    </tr>\n",
       "  </tbody>\n",
       "</table>\n",
       "</div>"
      ],
      "text/plain": [
       "   RowNumber  CustomerId   Surname  CreditScore Geography  Gender  Age  \\\n",
       "0          1    15634602  Hargrave          619    France  Female   42   \n",
       "1          2    15647311      Hill          608     Spain  Female   41   \n",
       "2          3    15619304      Onio          502    France  Female   42   \n",
       "\n",
       "   Tenure    Balance  NumOfProducts  HasCrCard  IsActiveMember  \\\n",
       "0       2       0.00              1          1               1   \n",
       "1       1   83807.86              1          0               1   \n",
       "2       8  159660.80              3          1               0   \n",
       "\n",
       "   EstimatedSalary  Exited  \n",
       "0        101348.88       1  \n",
       "1        112542.58       0  \n",
       "2        113931.57       1  "
      ]
     },
     "execution_count": 2,
     "metadata": {},
     "output_type": "execute_result"
    }
   ],
   "source": [
    "data = pd.read_csv(\"Churn_Modelling.csv\")\n",
    "data.head(3)"
   ]
  },
  {
   "cell_type": "code",
   "execution_count": 3,
   "metadata": {
    "executionInfo": {
     "elapsed": 2985,
     "status": "ok",
     "timestamp": 1611692993927,
     "user": {
      "displayName": "Ayesha Tabasssum",
      "photoUrl": "",
      "userId": "14062910621117898995"
     },
     "user_tz": -330
    },
    "id": "DKHaIRfmHQOu"
   },
   "outputs": [],
   "source": [
    "data.drop(['RowNumber', 'CustomerId' , 'Surname'] , axis = 1 , inplace = True)"
   ]
  },
  {
   "cell_type": "code",
   "execution_count": 7,
   "metadata": {
    "colab": {
     "base_uri": "https://localhost:8080/"
    },
    "executionInfo": {
     "elapsed": 2885,
     "status": "ok",
     "timestamp": 1611692996196,
     "user": {
      "displayName": "Ayesha Tabasssum",
      "photoUrl": "",
      "userId": "14062910621117898995"
     },
     "user_tz": -330
    },
    "id": "5s6b24hkHtS3",
    "outputId": "de26b032-1cb8-4652-eb3b-5a459deca83a"
   },
   "outputs": [
    {
     "name": "stdout",
     "output_type": "stream",
     "text": [
      "<class 'pandas.core.frame.DataFrame'>\n",
      "RangeIndex: 10000 entries, 0 to 9999\n",
      "Data columns (total 11 columns):\n",
      " #   Column           Non-Null Count  Dtype  \n",
      "---  ------           --------------  -----  \n",
      " 0   CreditScore      10000 non-null  int64  \n",
      " 1   Geography        10000 non-null  int32  \n",
      " 2   Gender           10000 non-null  int32  \n",
      " 3   Age              10000 non-null  int64  \n",
      " 4   Tenure           10000 non-null  int64  \n",
      " 5   Balance          10000 non-null  float64\n",
      " 6   NumOfProducts    10000 non-null  int64  \n",
      " 7   HasCrCard        10000 non-null  int64  \n",
      " 8   IsActiveMember   10000 non-null  int64  \n",
      " 9   EstimatedSalary  10000 non-null  float64\n",
      " 10  Exited           10000 non-null  int64  \n",
      "dtypes: float64(2), int32(2), int64(7)\n",
      "memory usage: 781.4 KB\n"
     ]
    }
   ],
   "source": [
    "# Label encoder\n",
    "\n",
    "data_types_dict = dict(data.dtypes)\n",
    "Label_encoder_collection = {}\n",
    "for col_name , data_type in data_types_dict.items():\n",
    "    if data_type == 'object':\n",
    "        Le = LabelEncoder()\n",
    "        data[col_name] = Le.fit_transform(data[col_name])\n",
    "        Label_encoder_collection[col_name] = Le \n",
    "\n",
    "data.info()"
   ]
  },
  {
   "cell_type": "code",
   "execution_count": 8,
   "metadata": {
    "executionInfo": {
     "elapsed": 2110,
     "status": "ok",
     "timestamp": 1611692996197,
     "user": {
      "displayName": "Ayesha Tabasssum",
      "photoUrl": "",
      "userId": "14062910621117898995"
     },
     "user_tz": -330
    },
    "id": "3GXKQ24YI_Fz"
   },
   "outputs": [],
   "source": [
    "X = data.iloc[: , :-1].values.astype(np.float32)\n",
    "Y = data.iloc[: , -1].values.astype(int)"
   ]
  },
  {
   "cell_type": "code",
   "execution_count": 9,
   "metadata": {
    "executionInfo": {
     "elapsed": 2059,
     "status": "ok",
     "timestamp": 1611692996807,
     "user": {
      "displayName": "Ayesha Tabasssum",
      "photoUrl": "",
      "userId": "14062910621117898995"
     },
     "user_tz": -330
    },
    "id": "tZiD9ZOaI_dh"
   },
   "outputs": [],
   "source": [
    "Xtrain , Xtest , Ytrain , Ytest = train_test_split(X , Y , test_size = 0.2 , random_state = 4)"
   ]
  },
  {
   "cell_type": "code",
   "execution_count": 10,
   "metadata": {
    "executionInfo": {
     "elapsed": 901,
     "status": "ok",
     "timestamp": 1611693057117,
     "user": {
      "displayName": "Ayesha Tabasssum",
      "photoUrl": "",
      "userId": "14062910621117898995"
     },
     "user_tz": -330
    },
    "id": "z2R2oDq4LbfC"
   },
   "outputs": [],
   "source": [
    "#Add class weights\n",
    "from sklearn.utils.class_weight import compute_class_weight\n",
    "class_weights = compute_class_weight(class_weight = 'balanced' ,  classes = np.unique(Ytrain), y=Ytrain)\n",
    "\n",
    "model_class_weights = {}\n",
    "for e , weight in enumerate(class_weights):\n",
    "    model_class_weights[e] = weight"
   ]
  },
  {
   "cell_type": "code",
   "execution_count": 11,
   "metadata": {
    "colab": {
     "base_uri": "https://localhost:8080/"
    },
    "executionInfo": {
     "elapsed": 893,
     "status": "ok",
     "timestamp": 1611693065534,
     "user": {
      "displayName": "Ayesha Tabasssum",
      "photoUrl": "",
      "userId": "14062910621117898995"
     },
     "user_tz": -330
    },
    "id": "m4a7ADnM8_mU",
    "outputId": "d2298885-1490-4300-dda7-3d2b6ab4f708"
   },
   "outputs": [
    {
     "data": {
      "text/plain": [
       "{0: 0.6290297216543481, 1: 2.437538086532602}"
      ]
     },
     "execution_count": 11,
     "metadata": {},
     "output_type": "execute_result"
    }
   ],
   "source": [
    "model_class_weights"
   ]
  },
  {
   "cell_type": "code",
   "execution_count": 12,
   "metadata": {
    "colab": {
     "base_uri": "https://localhost:8080/"
    },
    "executionInfo": {
     "elapsed": 1039,
     "status": "ok",
     "timestamp": 1611693115463,
     "user": {
      "displayName": "Ayesha Tabasssum",
      "photoUrl": "",
      "userId": "14062910621117898995"
     },
     "user_tz": -330
    },
    "id": "SjvyhBk6IvhN",
    "outputId": "948c4818-4fd3-49f9-e577-7afa31ed9824"
   },
   "outputs": [
    {
     "name": "stdout",
     "output_type": "stream",
     "text": [
      "Model: \"sequential\"\n",
      "_________________________________________________________________\n",
      "Layer (type)                 Output Shape              Param #   \n",
      "=================================================================\n",
      "batch_normalization (BatchNo (None, 10)                40        \n",
      "_________________________________________________________________\n",
      "dense (Dense)                (None, 128)               1408      \n",
      "_________________________________________________________________\n",
      "dropout (Dropout)            (None, 128)               0         \n",
      "_________________________________________________________________\n",
      "batch_normalization_1 (Batch (None, 128)               512       \n",
      "_________________________________________________________________\n",
      "dense_1 (Dense)              (None, 64)                8256      \n",
      "_________________________________________________________________\n",
      "dropout_1 (Dropout)          (None, 64)                0         \n",
      "_________________________________________________________________\n",
      "batch_normalization_2 (Batch (None, 64)                256       \n",
      "_________________________________________________________________\n",
      "dense_2 (Dense)              (None, 32)                2080      \n",
      "_________________________________________________________________\n",
      "dense_3 (Dense)              (None, 1)                 33        \n",
      "=================================================================\n",
      "Total params: 12,585\n",
      "Trainable params: 12,181\n",
      "Non-trainable params: 404\n",
      "_________________________________________________________________\n"
     ]
    }
   ],
   "source": [
    "# Add in Class weights \n",
    "# Increase Units in Dense layers and Increase Number of Layers \n",
    "# Add BatchNormalization\n",
    "# Add Dropout after Layers \n",
    "\n",
    "model = tf.keras.models.Sequential()\n",
    "model.add(tf.keras.Input(shape=(10,)))\n",
    "model.add(tf.keras.layers.BatchNormalization())\n",
    "model.add(tf.keras.layers.Dense(128 , activation='relu'))\n",
    "model.add(tf.keras.layers.Dropout(0.2))\n",
    "model.add(tf.keras.layers.BatchNormalization())\n",
    "model.add(tf.keras.layers.Dense(64 , activation='relu'))\n",
    "model.add(tf.keras.layers.Dropout(0.2))\n",
    "model.add(tf.keras.layers.BatchNormalization())\n",
    "model.add(tf.keras.layers.Dense(32 , activation='relu'))\n",
    "model.add(tf.keras.layers.Dense(1 , activation='sigmoid'))\n",
    "\n",
    "model.summary()"
   ]
  },
  {
   "cell_type": "code",
   "execution_count": 13,
   "metadata": {
    "executionInfo": {
     "elapsed": 941,
     "status": "ok",
     "timestamp": 1611693125561,
     "user": {
      "displayName": "Ayesha Tabasssum",
      "photoUrl": "",
      "userId": "14062910621117898995"
     },
     "user_tz": -330
    },
    "id": "_9ratj_IJ-6K"
   },
   "outputs": [],
   "source": [
    "# Create your optimizer and compile your model\n",
    "Optimizer = tf.keras.optimizers.Adam(learning_rate=0.001)\n",
    "model.compile(Optimizer, loss='binary_crossentropy', metrics=[\"accuracy\"])"
   ]
  },
  {
   "cell_type": "code",
   "execution_count": 14,
   "metadata": {
    "colab": {
     "base_uri": "https://localhost:8080/"
    },
    "executionInfo": {
     "elapsed": 15681,
     "status": "ok",
     "timestamp": 1611693148552,
     "user": {
      "displayName": "Ayesha Tabasssum",
      "photoUrl": "",
      "userId": "14062910621117898995"
     },
     "user_tz": -330
    },
    "id": "sNKUiw5cKK78",
    "outputId": "9411c63d-9949-4eca-b75d-bf088cc3a6bc"
   },
   "outputs": [
    {
     "name": "stdout",
     "output_type": "stream",
     "text": [
      "Epoch 1/20\n",
      "250/250 [==============================] - 1s 4ms/step - loss: 0.5971 - accuracy: 0.6683 - val_loss: 0.5239 - val_accuracy: 0.7370\n",
      "Epoch 2/20\n",
      "250/250 [==============================] - 1s 2ms/step - loss: 0.5294 - accuracy: 0.7321 - val_loss: 0.4699 - val_accuracy: 0.7590\n",
      "Epoch 3/20\n",
      "250/250 [==============================] - 1s 2ms/step - loss: 0.5120 - accuracy: 0.7429 - val_loss: 0.4839 - val_accuracy: 0.7635\n",
      "Epoch 4/20\n",
      "250/250 [==============================] - 1s 2ms/step - loss: 0.5056 - accuracy: 0.7484 - val_loss: 0.4456 - val_accuracy: 0.7845\n",
      "Epoch 5/20\n",
      "250/250 [==============================] - 1s 2ms/step - loss: 0.4998 - accuracy: 0.7511 - val_loss: 0.4439 - val_accuracy: 0.7905\n",
      "Epoch 6/20\n",
      "250/250 [==============================] - 1s 2ms/step - loss: 0.4950 - accuracy: 0.7498 - val_loss: 0.4306 - val_accuracy: 0.7985\n",
      "Epoch 7/20\n",
      "250/250 [==============================] - 1s 2ms/step - loss: 0.4927 - accuracy: 0.7595 - val_loss: 0.4708 - val_accuracy: 0.7760\n",
      "Epoch 8/20\n",
      "250/250 [==============================] - 1s 2ms/step - loss: 0.4806 - accuracy: 0.7659 - val_loss: 0.4793 - val_accuracy: 0.7615\n",
      "Epoch 9/20\n",
      "250/250 [==============================] - 1s 2ms/step - loss: 0.4910 - accuracy: 0.7581 - val_loss: 0.4675 - val_accuracy: 0.7805\n",
      "Epoch 10/20\n",
      "250/250 [==============================] - 1s 2ms/step - loss: 0.4824 - accuracy: 0.7725 - val_loss: 0.4307 - val_accuracy: 0.8035\n",
      "Epoch 11/20\n",
      "250/250 [==============================] - 1s 2ms/step - loss: 0.4806 - accuracy: 0.7623 - val_loss: 0.4334 - val_accuracy: 0.7905\n",
      "Epoch 12/20\n",
      "250/250 [==============================] - 1s 2ms/step - loss: 0.4828 - accuracy: 0.7645 - val_loss: 0.4173 - val_accuracy: 0.8190\n",
      "Epoch 13/20\n",
      "250/250 [==============================] - 1s 2ms/step - loss: 0.4728 - accuracy: 0.7785 - val_loss: 0.4430 - val_accuracy: 0.7975\n",
      "Epoch 14/20\n",
      "250/250 [==============================] - 1s 2ms/step - loss: 0.4754 - accuracy: 0.7680 - val_loss: 0.4444 - val_accuracy: 0.7920\n",
      "Epoch 15/20\n",
      "250/250 [==============================] - 1s 2ms/step - loss: 0.4737 - accuracy: 0.7759 - val_loss: 0.4163 - val_accuracy: 0.8175\n",
      "Epoch 16/20\n",
      "250/250 [==============================] - 1s 2ms/step - loss: 0.4712 - accuracy: 0.7699 - val_loss: 0.4286 - val_accuracy: 0.8000\n",
      "Epoch 17/20\n",
      "250/250 [==============================] - 1s 2ms/step - loss: 0.4734 - accuracy: 0.7789 - val_loss: 0.4525 - val_accuracy: 0.7875\n",
      "Epoch 18/20\n",
      "250/250 [==============================] - 1s 2ms/step - loss: 0.4766 - accuracy: 0.7676 - val_loss: 0.4229 - val_accuracy: 0.8240\n",
      "Epoch 19/20\n",
      "250/250 [==============================] - 1s 2ms/step - loss: 0.4730 - accuracy: 0.7826 - val_loss: 0.4554 - val_accuracy: 0.7935\n",
      "Epoch 20/20\n",
      "250/250 [==============================] - 1s 2ms/step - loss: 0.4672 - accuracy: 0.7776 - val_loss: 0.4494 - val_accuracy: 0.8045\n"
     ]
    }
   ],
   "source": [
    "history = model.fit(Xtrain , Ytrain , validation_data=(Xtest , Ytest) , epochs=20 , class_weight=model_class_weights)"
   ]
  },
  {
   "cell_type": "code",
   "execution_count": 15,
   "metadata": {
    "colab": {
     "base_uri": "https://localhost:8080/",
     "height": 573
    },
    "executionInfo": {
     "elapsed": 2777,
     "status": "ok",
     "timestamp": 1611693210949,
     "user": {
      "displayName": "Ayesha Tabasssum",
      "photoUrl": "",
      "userId": "14062910621117898995"
     },
     "user_tz": -330
    },
    "id": "AmVWxauzRing",
    "outputId": "b0caa134-5723-4353-d4fe-0c6dc795bbe7"
   },
   "outputs": [
    {
     "data": {
      "image/png": "[encoded data removed]",
      "text/plain": [
       "<Figure size 432x288 with 1 Axes>"
      ]
     },
     "metadata": {
      "needs_background": "light"
     },
     "output_type": "display_data"
    },
    {
     "data": {
      "image/png": "[encoded data removed]",
      "text/plain": [
       "<Figure size 432x288 with 1 Axes>"
      ]
     },
     "metadata": {
      "needs_background": "light"
     },
     "output_type": "display_data"
    }
   ],
   "source": [
    "#  \"Accuracy Plot\"\n",
    "plt.plot(history.history['accuracy'])\n",
    "plt.plot(history.history['val_accuracy'])\n",
    "plt.title('model accuracy')\n",
    "plt.ylabel('accuracy')\n",
    "plt.xlabel('epoch')\n",
    "plt.legend(['train', 'validation'], loc='upper left')\n",
    "plt.show()\n",
    "\n",
    "# \"Loss Plot\"\n",
    "plt.plot(history.history['loss'])\n",
    "plt.plot(history.history['val_loss'])\n",
    "plt.title('model loss')\n",
    "plt.ylabel('loss')\n",
    "plt.xlabel('epoch')\n",
    "plt.legend(['train', 'validation'], loc='upper left')\n",
    "plt.show()\n",
    "\n",
    "# We see graphs converging better compared to previous implementation"
   ]
  },
  {
   "cell_type": "code",
   "execution_count": 16,
   "metadata": {
    "executionInfo": {
     "elapsed": 1735,
     "status": "ok",
     "timestamp": 1611693230149,
     "user": {
      "displayName": "Ayesha Tabasssum",
      "photoUrl": "",
      "userId": "14062910621117898995"
     },
     "user_tz": -330
    },
    "id": "fucdp5TSPqVN"
   },
   "outputs": [],
   "source": [
    "# collect predictions \n",
    "predictions = np.round(model.predict(Xtest))"
   ]
  },
  {
   "cell_type": "code",
   "execution_count": 17,
   "metadata": {
    "colab": {
     "base_uri": "https://localhost:8080/"
    },
    "executionInfo": {
     "elapsed": 1778,
     "status": "ok",
     "timestamp": 1611693234253,
     "user": {
      "displayName": "Ayesha Tabasssum",
      "photoUrl": "",
      "userId": "14062910621117898995"
     },
     "user_tz": -330
    },
    "id": "qsx8F5PJO_kf",
    "outputId": "150d59b6-5bda-447a-8886-d67d31c63fce"
   },
   "outputs": [
    {
     "data": {
      "text/plain": [
       "0.8045"
      ]
     },
     "execution_count": 17,
     "metadata": {},
     "output_type": "execute_result"
    }
   ],
   "source": [
    "# Check Accuracy\n",
    "\n",
    "from sklearn.metrics import accuracy_score , confusion_matrix\n",
    "\n",
    "accuracy_score(Ytest , predictions) # Accuracy is good"
   ]
  },
  {
   "cell_type": "code",
   "execution_count": 18,
   "metadata": {
    "colab": {
     "base_uri": "https://localhost:8080/"
    },
    "executionInfo": {
     "elapsed": 1660,
     "status": "ok",
     "timestamp": 1611693238903,
     "user": {
      "displayName": "Ayesha Tabasssum",
      "photoUrl": "",
      "userId": "14062910621117898995"
     },
     "user_tz": -330
    },
    "id": "3SdCEgbiPFys",
    "outputId": "d7f41d76-b834-4692-a2a6-d4049a75284c"
   },
   "outputs": [
    {
     "data": {
      "text/plain": [
       "array([[1306,  298],\n",
       "       [  93,  303]], dtype=int64)"
      ]
     },
     "execution_count": 18,
     "metadata": {},
     "output_type": "execute_result"
    }
   ],
   "source": [
    "# We don't see the problem of predicting everything as class 0\n",
    "confusion_matrix(Ytest , predictions)"
   ]
  },
  {
   "cell_type": "code",
   "execution_count": 19,
   "metadata": {
    "colab": {
     "base_uri": "https://localhost:8080/"
    },
    "executionInfo": {
     "elapsed": 1180,
     "status": "ok",
     "timestamp": 1611693255774,
     "user": {
      "displayName": "Ayesha Tabasssum",
      "photoUrl": "",
      "userId": "14062910621117898995"
     },
     "user_tz": -330
    },
    "id": "4z2TMyrxfOjT",
    "outputId": "95a1d179-e1b1-4868-f2c3-48b0d1ba25c4"
   },
   "outputs": [
    {
     "name": "stdout",
     "output_type": "stream",
     "text": [
      "              precision    recall  f1-score   support\n",
      "\n",
      "           0       0.93      0.81      0.87      1604\n",
      "           1       0.50      0.77      0.61       396\n",
      "\n",
      "    accuracy                           0.80      2000\n",
      "   macro avg       0.72      0.79      0.74      2000\n",
      "weighted avg       0.85      0.80      0.82      2000\n",
      "\n"
     ]
    }
   ],
   "source": [
    "from sklearn.metrics import classification_report \n",
    "\n",
    "print(classification_report(Ytest , predictions))"
   ]
  },
  {
   "cell_type": "code",
   "execution_count": 21,
   "metadata": {
    "id": "xPiWjJr4Z2aq"
   },
   "outputs": [
    {
     "data": {
      "text/plain": [
       "array([[1.],\n",
       "       [0.],\n",
       "       [0.],\n",
       "       ...,\n",
       "       [0.],\n",
       "       [1.],\n",
       "       [0.]], dtype=float32)"
      ]
     },
     "execution_count": 21,
     "metadata": {},
     "output_type": "execute_result"
    }
   ],
   "source": [
    "predictions"
   ]
  },
  {
   "cell_type": "code",
   "execution_count": null,
   "metadata": {},
   "outputs": [],
   "source": []
  }
 ],
 "metadata": {
  "colab": {
   "collapsed_sections": [],
   "name": "Improvement_NeuralNetwork.ipynb",
   "provenance": []
  },
  "kernelspec": {
   "display_name": "Python 3",
   "language": "python",
   "name": "python3"
  },
  "language_info": {
   "codemirror_mode": {
    "name": "ipython",
    "version": 3
   },
   "file_extension": ".py",
   "mimetype": "text/x-python",
   "name": "python",
   "nbconvert_exporter": "python",
   "pygments_lexer": "ipython3",
   "version": "3.8.3"
  }
 },
 "nbformat": 4,
 "nbformat_minor": 1
}
