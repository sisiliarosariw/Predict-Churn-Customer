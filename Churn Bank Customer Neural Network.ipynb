{
 "cells": [
  {
   "cell_type": "code",
   "execution_count": 1,
   "metadata": {
    "id": "qpcWiYbVG4o7"
   },
   "outputs": [],
   "source": [
    "import pandas as pd \n",
    "import numpy as np\n",
    "import matplotlib.pyplot as plt\n",
    "import tensorflow as tf\n",
    "from sklearn.preprocessing import LabelEncoder \n",
    "from sklearn.model_selection import train_test_split"
   ]
  },
  {
   "cell_type": "code",
   "execution_count": 2,
   "metadata": {
    "colab": {
     "base_uri": "https://localhost:8080/",
     "height": 136
    },
    "executionInfo": {
     "elapsed": 3436,
     "status": "ok",
     "timestamp": 1610284245586,
     "user": {
      "displayName": "Abhilash Chintada",
      "photoUrl": "https://lh3.googleusercontent.com/a-/AOh14GhlwwwMJr16CgjmRFWk833xZEy2OfpaFZDIqM84=s64",
      "userId": "00311744807213723199"
     },
     "user_tz": -330
    },
    "id": "7IMS80ybHOCa",
    "outputId": "5e7d2a8a-2334-47d5-ac62-a8ef53b69d38"
   },
   "outputs": [
    {
     "data": {
      "text/html": [
       "<div>\n",
       "<style scoped>\n",
       "    .dataframe tbody tr th:only-of-type {\n",
       "        vertical-align: middle;\n",
       "    }\n",
       "\n",
       "    .dataframe tbody tr th {\n",
       "        vertical-align: top;\n",
       "    }\n",
       "\n",
       "    .dataframe thead th {\n",
       "        text-align: right;\n",
       "    }\n",
       "</style>\n",
       "<table border=\"1\" class=\"dataframe\">\n",
       "  <thead>\n",
       "    <tr style=\"text-align: right;\">\n",
       "      <th></th>\n",
       "      <th>RowNumber</th>\n",
       "      <th>CustomerId</th>\n",
       "      <th>Surname</th>\n",
       "      <th>CreditScore</th>\n",
       "      <th>Geography</th>\n",
       "      <th>Gender</th>\n",
       "      <th>Age</th>\n",
       "      <th>Tenure</th>\n",
       "      <th>Balance</th>\n",
       "      <th>NumOfProducts</th>\n",
       "      <th>HasCrCard</th>\n",
       "      <th>IsActiveMember</th>\n",
       "      <th>EstimatedSalary</th>\n",
       "      <th>Exited</th>\n",
       "    </tr>\n",
       "  </thead>\n",
       "  <tbody>\n",
       "    <tr>\n",
       "      <th>0</th>\n",
       "      <td>1</td>\n",
       "      <td>15634602</td>\n",
       "      <td>Hargrave</td>\n",
       "      <td>619</td>\n",
       "      <td>France</td>\n",
       "      <td>Female</td>\n",
       "      <td>42</td>\n",
       "      <td>2</td>\n",
       "      <td>0.00</td>\n",
       "      <td>1</td>\n",
       "      <td>1</td>\n",
       "      <td>1</td>\n",
       "      <td>101348.88</td>\n",
       "      <td>1</td>\n",
       "    </tr>\n",
       "    <tr>\n",
       "      <th>1</th>\n",
       "      <td>2</td>\n",
       "      <td>15647311</td>\n",
       "      <td>Hill</td>\n",
       "      <td>608</td>\n",
       "      <td>Spain</td>\n",
       "      <td>Female</td>\n",
       "      <td>41</td>\n",
       "      <td>1</td>\n",
       "      <td>83807.86</td>\n",
       "      <td>1</td>\n",
       "      <td>0</td>\n",
       "      <td>1</td>\n",
       "      <td>112542.58</td>\n",
       "      <td>0</td>\n",
       "    </tr>\n",
       "    <tr>\n",
       "      <th>2</th>\n",
       "      <td>3</td>\n",
       "      <td>15619304</td>\n",
       "      <td>Onio</td>\n",
       "      <td>502</td>\n",
       "      <td>France</td>\n",
       "      <td>Female</td>\n",
       "      <td>42</td>\n",
       "      <td>8</td>\n",
       "      <td>159660.80</td>\n",
       "      <td>3</td>\n",
       "      <td>1</td>\n",
       "      <td>0</td>\n",
       "      <td>113931.57</td>\n",
       "      <td>1</td>\n",
       "    </tr>\n",
       "  </tbody>\n",
       "</table>\n",
       "</div>"
      ],
      "text/plain": [
       "   RowNumber  CustomerId   Surname  CreditScore Geography  Gender  Age  \\\n",
       "0          1    15634602  Hargrave          619    France  Female   42   \n",
       "1          2    15647311      Hill          608     Spain  Female   41   \n",
       "2          3    15619304      Onio          502    France  Female   42   \n",
       "\n",
       "   Tenure    Balance  NumOfProducts  HasCrCard  IsActiveMember  \\\n",
       "0       2       0.00              1          1               1   \n",
       "1       1   83807.86              1          0               1   \n",
       "2       8  159660.80              3          1               0   \n",
       "\n",
       "   EstimatedSalary  Exited  \n",
       "0        101348.88       1  \n",
       "1        112542.58       0  \n",
       "2        113931.57       1  "
      ]
     },
     "execution_count": 2,
     "metadata": {},
     "output_type": "execute_result"
    }
   ],
   "source": [
    "data = pd.read_csv(\"Churn_Modelling.csv\")\n",
    "data.head(3)"
   ]
  },
  {
   "cell_type": "code",
   "execution_count": 3,
   "metadata": {
    "id": "DKHaIRfmHQOu"
   },
   "outputs": [],
   "source": [
    "#the data is useless... it's unique in each costumer, so i drop it\n",
    "data.drop(['RowNumber', 'CustomerId' , 'Surname'] , axis = 1 , inplace = True)"
   ]
  },
  {
   "cell_type": "code",
   "execution_count": 4,
   "metadata": {
    "colab": {
     "base_uri": "https://localhost:8080/"
    },
    "executionInfo": {
     "elapsed": 3395,
     "status": "ok",
     "timestamp": 1610284245592,
     "user": {
      "displayName": "Abhilash Chintada",
      "photoUrl": "https://lh3.googleusercontent.com/a-/AOh14GhlwwwMJr16CgjmRFWk833xZEy2OfpaFZDIqM84=s64",
      "userId": "00311744807213723199"
     },
     "user_tz": -330
    },
    "id": "Sc-fGf7cHjps",
    "outputId": "15cedb42-330a-463c-b1cc-95b00d6d34b8"
   },
   "outputs": [
    {
     "data": {
      "text/plain": [
       "CreditScore        0\n",
       "Geography          0\n",
       "Gender             0\n",
       "Age                0\n",
       "Tenure             0\n",
       "Balance            0\n",
       "NumOfProducts      0\n",
       "HasCrCard          0\n",
       "IsActiveMember     0\n",
       "EstimatedSalary    0\n",
       "Exited             0\n",
       "dtype: int64"
      ]
     },
     "execution_count": 4,
     "metadata": {},
     "output_type": "execute_result"
    }
   ],
   "source": [
    "#no missing value\n",
    "data.isnull().sum()"
   ]
  },
  {
   "cell_type": "code",
   "execution_count": 5,
   "metadata": {
    "colab": {
     "base_uri": "https://localhost:8080/"
    },
    "executionInfo": {
     "elapsed": 3383,
     "status": "ok",
     "timestamp": 1610284245595,
     "user": {
      "displayName": "Abhilash Chintada",
      "photoUrl": "https://lh3.googleusercontent.com/a-/AOh14GhlwwwMJr16CgjmRFWk833xZEy2OfpaFZDIqM84=s64",
      "userId": "00311744807213723199"
     },
     "user_tz": -330
    },
    "id": "2muHLmN7Hnz4",
    "outputId": "10f7722d-2459-4364-db0c-32a8d5878543"
   },
   "outputs": [
    {
     "name": "stdout",
     "output_type": "stream",
     "text": [
      "<class 'pandas.core.frame.DataFrame'>\n",
      "RangeIndex: 10000 entries, 0 to 9999\n",
      "Data columns (total 11 columns):\n",
      " #   Column           Non-Null Count  Dtype  \n",
      "---  ------           --------------  -----  \n",
      " 0   CreditScore      10000 non-null  int64  \n",
      " 1   Geography        10000 non-null  object \n",
      " 2   Gender           10000 non-null  object \n",
      " 3   Age              10000 non-null  int64  \n",
      " 4   Tenure           10000 non-null  int64  \n",
      " 5   Balance          10000 non-null  float64\n",
      " 6   NumOfProducts    10000 non-null  int64  \n",
      " 7   HasCrCard        10000 non-null  int64  \n",
      " 8   IsActiveMember   10000 non-null  int64  \n",
      " 9   EstimatedSalary  10000 non-null  float64\n",
      " 10  Exited           10000 non-null  int64  \n",
      "dtypes: float64(2), int64(7), object(2)\n",
      "memory usage: 859.5+ KB\n"
     ]
    }
   ],
   "source": [
    "# info function, check datatypes, \n",
    "# to make it easy to predict, need to change it to numerical\n",
    "data.info()"
   ]
  },
  {
   "cell_type": "code",
   "execution_count": 6,
   "metadata": {
    "colab": {
     "base_uri": "https://localhost:8080/"
    },
    "executionInfo": {
     "elapsed": 3371,
     "status": "ok",
     "timestamp": 1610284245598,
     "user": {
      "displayName": "Abhilash Chintada",
      "photoUrl": "https://lh3.googleusercontent.com/a-/AOh14GhlwwwMJr16CgjmRFWk833xZEy2OfpaFZDIqM84=s64",
      "userId": "00311744807213723199"
     },
     "user_tz": -330
    },
    "id": "5s6b24hkHtS3",
    "outputId": "a424f115-4644-42b2-c9e2-c439e794110e"
   },
   "outputs": [
    {
     "name": "stdout",
     "output_type": "stream",
     "text": [
      "<class 'pandas.core.frame.DataFrame'>\n",
      "RangeIndex: 10000 entries, 0 to 9999\n",
      "Data columns (total 11 columns):\n",
      " #   Column           Non-Null Count  Dtype  \n",
      "---  ------           --------------  -----  \n",
      " 0   CreditScore      10000 non-null  int64  \n",
      " 1   Geography        10000 non-null  int32  \n",
      " 2   Gender           10000 non-null  int32  \n",
      " 3   Age              10000 non-null  int64  \n",
      " 4   Tenure           10000 non-null  int64  \n",
      " 5   Balance          10000 non-null  float64\n",
      " 6   NumOfProducts    10000 non-null  int64  \n",
      " 7   HasCrCard        10000 non-null  int64  \n",
      " 8   IsActiveMember   10000 non-null  int64  \n",
      " 9   EstimatedSalary  10000 non-null  float64\n",
      " 10  Exited           10000 non-null  int64  \n",
      "dtypes: float64(2), int32(2), int64(7)\n",
      "memory usage: 781.4 KB\n"
     ]
    }
   ],
   "source": [
    "# Label encoder\n",
    "\n",
    "data_types_dict = dict(data.dtypes)\n",
    "Label_encoder_collection = {}\n",
    "for col_name , data_type in data_types_dict.items():\n",
    "    if data_type == 'object':\n",
    "        Le = LabelEncoder()\n",
    "        data[col_name] = Le.fit_transform(data[col_name])\n",
    "        Label_encoder_collection[col_name] = Le \n",
    "\n",
    "data.info()"
   ]
  },
  {
   "cell_type": "code",
   "execution_count": 7,
   "metadata": {
    "id": "3GXKQ24YI_Fz"
   },
   "outputs": [],
   "source": [
    "X = data.iloc[: , :-1].values.astype(np.float32)\n",
    "Y = data.iloc[: , -1].values.astype(int)"
   ]
  },
  {
   "cell_type": "code",
   "execution_count": 8,
   "metadata": {
    "id": "tZiD9ZOaI_dh"
   },
   "outputs": [],
   "source": [
    "#for the train and test data, dataset will be split to 80 : 20\n",
    "Xtrain , Xtest , Ytrain , Ytest = train_test_split(X , Y , test_size = 0.2 , random_state = 4)"
   ]
  },
  {
   "cell_type": "code",
   "execution_count": 9,
   "metadata": {
    "colab": {
     "base_uri": "https://localhost:8080/"
    },
    "executionInfo": {
     "elapsed": 784,
     "status": "ok",
     "timestamp": 1610284626329,
     "user": {
      "displayName": "Abhilash Chintada",
      "photoUrl": "https://lh3.googleusercontent.com/a-/AOh14GhlwwwMJr16CgjmRFWk833xZEy2OfpaFZDIqM84=s64",
      "userId": "00311744807213723199"
     },
     "user_tz": -330
    },
    "id": "SjvyhBk6IvhN",
    "outputId": "786ce509-6e39-44d3-dde8-47627c585836"
   },
   "outputs": [
    {
     "name": "stdout",
     "output_type": "stream",
     "text": [
      "Model: \"sequential\"\n",
      "_________________________________________________________________\n",
      "Layer (type)                 Output Shape              Param #   \n",
      "=================================================================\n",
      "dense (Dense)                (None, 32)                352       \n",
      "_________________________________________________________________\n",
      "dense_1 (Dense)              (None, 32)                1056      \n",
      "_________________________________________________________________\n",
      "dense_2 (Dense)              (None, 1)                 33        \n",
      "=================================================================\n",
      "Total params: 1,441\n",
      "Trainable params: 1,441\n",
      "Non-trainable params: 0\n",
      "_________________________________________________________________\n"
     ]
    }
   ],
   "source": [
    "# Starting using Sequential Object  \n",
    "model = tf.keras.models.Sequential()\n",
    "# add in input and dismensian based on the dataset\n",
    "model.add(tf.keras.Input(shape=(10,)))\n",
    "# neuron 1st layer\n",
    "model.add(tf.keras.layers.Dense(32))\n",
    "# neuron 2nd layer \n",
    "model.add(tf.keras.layers.Dense(32))\n",
    "# using sigmoid for binary\n",
    "model.add(tf.keras.layers.Dense(1 , activation='sigmoid'))\n",
    "model.summary()"
   ]
  },
  {
   "cell_type": "code",
   "execution_count": 10,
   "metadata": {
    "id": "_9ratj_IJ-6K"
   },
   "outputs": [],
   "source": [
    "#adam is the best\n",
    "Optimizer = tf.keras.optimizers.Adam(learning_rate=0.001)\n",
    "model.compile(Optimizer, loss='binary_crossentropy', metrics=[\"accuracy\"])"
   ]
  },
  {
   "cell_type": "code",
   "execution_count": 11,
   "metadata": {
    "colab": {
     "base_uri": "https://localhost:8080/"
    },
    "executionInfo": {
     "elapsed": 8871,
     "status": "ok",
     "timestamp": 1610284635046,
     "user": {
      "displayName": "Abhilash Chintada",
      "photoUrl": "https://lh3.googleusercontent.com/a-/AOh14GhlwwwMJr16CgjmRFWk833xZEy2OfpaFZDIqM84=s64",
      "userId": "00311744807213723199"
     },
     "user_tz": -330
    },
    "id": "sNKUiw5cKK78",
    "outputId": "c25ee0b3-4f60-43c2-c8f3-a63a836658f2"
   },
   "outputs": [
    {
     "name": "stdout",
     "output_type": "stream",
     "text": [
      "Epoch 1/20\n",
      "250/250 [==============================] - 1s 3ms/step - loss: 1500.6298 - accuracy: 0.6280 - val_loss: 113.1674 - val_accuracy: 0.3495\n",
      "Epoch 2/20\n",
      "250/250 [==============================] - 0s 1ms/step - loss: 264.4624 - accuracy: 0.6500 - val_loss: 366.2513 - val_accuracy: 0.7100\n",
      "Epoch 3/20\n",
      "250/250 [==============================] - 0s 1ms/step - loss: 255.3069 - accuracy: 0.6637 - val_loss: 195.0376 - val_accuracy: 0.6935\n",
      "Epoch 4/20\n",
      "250/250 [==============================] - 0s 1ms/step - loss: 298.0300 - accuracy: 0.6716 - val_loss: 367.7547 - val_accuracy: 0.8020\n",
      "Epoch 5/20\n",
      "250/250 [==============================] - 0s 1ms/step - loss: 299.1747 - accuracy: 0.6733 - val_loss: 396.1274 - val_accuracy: 0.8020\n",
      "Epoch 6/20\n",
      "250/250 [==============================] - 0s 1ms/step - loss: 277.0144 - accuracy: 0.6639 - val_loss: 149.9109 - val_accuracy: 0.8020\n",
      "Epoch 7/20\n",
      "250/250 [==============================] - 0s 1ms/step - loss: 216.5818 - accuracy: 0.6739 - val_loss: 155.2565 - val_accuracy: 0.8020\n",
      "Epoch 8/20\n",
      "250/250 [==============================] - 0s 1ms/step - loss: 213.0633 - accuracy: 0.6762 - val_loss: 367.5423 - val_accuracy: 0.8020\n",
      "Epoch 9/20\n",
      "250/250 [==============================] - 0s 1ms/step - loss: 289.0636 - accuracy: 0.6685 - val_loss: 164.2846 - val_accuracy: 0.8020\n",
      "Epoch 10/20\n",
      "250/250 [==============================] - 0s 1ms/step - loss: 183.6695 - accuracy: 0.6829 - val_loss: 142.8687 - val_accuracy: 0.6445\n",
      "Epoch 11/20\n",
      "250/250 [==============================] - 0s 1ms/step - loss: 203.1080 - accuracy: 0.6808 - val_loss: 392.3921 - val_accuracy: 0.8020\n",
      "Epoch 12/20\n",
      "250/250 [==============================] - 0s 1ms/step - loss: 232.2977 - accuracy: 0.6771 - val_loss: 25.8182 - val_accuracy: 0.8025\n",
      "Epoch 13/20\n",
      "250/250 [==============================] - 0s 1ms/step - loss: 182.0459 - accuracy: 0.6885 - val_loss: 55.2701 - val_accuracy: 0.7770\n",
      "Epoch 14/20\n",
      "250/250 [==============================] - 0s 1ms/step - loss: 183.7546 - accuracy: 0.6829 - val_loss: 69.9283 - val_accuracy: 0.4710\n",
      "Epoch 15/20\n",
      "250/250 [==============================] - 0s 1ms/step - loss: 186.0012 - accuracy: 0.6794 - val_loss: 151.6564 - val_accuracy: 0.4835\n",
      "Epoch 16/20\n",
      "250/250 [==============================] - 0s 1ms/step - loss: 229.6027 - accuracy: 0.6751 - val_loss: 322.9355 - val_accuracy: 0.7890\n",
      "Epoch 17/20\n",
      "250/250 [==============================] - 0s 1ms/step - loss: 167.1305 - accuracy: 0.6808 - val_loss: 90.8496 - val_accuracy: 0.7405\n",
      "Epoch 18/20\n",
      "250/250 [==============================] - 0s 1ms/step - loss: 218.2281 - accuracy: 0.6719 - val_loss: 176.9333 - val_accuracy: 0.6935\n",
      "Epoch 19/20\n",
      "250/250 [==============================] - 0s 1ms/step - loss: 172.2695 - accuracy: 0.6798 - val_loss: 173.3433 - val_accuracy: 0.8020\n",
      "Epoch 20/20\n",
      "250/250 [==============================] - 0s 1ms/step - loss: 193.2080 - accuracy: 0.6766 - val_loss: 86.1127 - val_accuracy: 0.7295\n"
     ]
    }
   ],
   "source": [
    "history = model.fit(Xtrain , Ytrain , validation_data=(Xtest , Ytest) , epochs=20)"
   ]
  },
  {
   "cell_type": "code",
   "execution_count": 12,
   "metadata": {
    "colab": {
     "base_uri": "https://localhost:8080/",
     "height": 573
    },
    "executionInfo": {
     "elapsed": 1087,
     "status": "ok",
     "timestamp": 1610284694865,
     "user": {
      "displayName": "Abhilash Chintada",
      "photoUrl": "https://lh3.googleusercontent.com/a-/AOh14GhlwwwMJr16CgjmRFWk833xZEy2OfpaFZDIqM84=s64",
      "userId": "00311744807213723199"
     },
     "user_tz": -330
    },
    "id": "XKhLBVoQRlbt",
    "outputId": "bfa972e5-b8b7-4923-fcf8-d8247a840bff"
   },
   "outputs": [
    {
     "data": {
      "image/png": "[encoded data removed]",
      "text/plain": [
       "<Figure size 432x288 with 1 Axes>"
      ]
     },
     "metadata": {
      "needs_background": "light"
     },
     "output_type": "display_data"
    },
    {
     "data": {
      "image/png": "[encoded data removed]",
      "text/plain": [
       "<Figure size 432x288 with 1 Axes>"
      ]
     },
     "metadata": {
      "needs_background": "light"
     },
     "output_type": "display_data"
    }
   ],
   "source": [
    "#  \"Accuracy Plot\"\n",
    "plt.plot(history.history['accuracy'])\n",
    "plt.plot(history.history['val_accuracy'])\n",
    "plt.title('model accuracy')\n",
    "plt.ylabel('accuracy')\n",
    "plt.xlabel('epoch')\n",
    "plt.legend(['train', 'validation'], loc='upper left')\n",
    "plt.show()\n",
    "\n",
    "# \"Loss Plot\"\n",
    "plt.plot(history.history['loss'])\n",
    "plt.plot(history.history['val_loss'])\n",
    "plt.title('model loss')\n",
    "plt.ylabel('loss')\n",
    "plt.xlabel('epoch')\n",
    "plt.legend(['train', 'validation'], loc='upper left')\n",
    "plt.show()\n",
    "\n",
    "#a lot of fluctuations in Accuracy Graph that concludes model learning is unstable "
   ]
  },
  {
   "cell_type": "code",
   "execution_count": 13,
   "metadata": {
    "id": "mQpLObtHK4bF"
   },
   "outputs": [],
   "source": [
    "predictions = np.round(model.predict(Xtest))"
   ]
  },
  {
   "cell_type": "code",
   "execution_count": 14,
   "metadata": {
    "colab": {
     "base_uri": "https://localhost:8080/"
    },
    "executionInfo": {
     "elapsed": 868,
     "status": "ok",
     "timestamp": 1610284706960,
     "user": {
      "displayName": "Abhilash Chintada",
      "photoUrl": "https://lh3.googleusercontent.com/a-/AOh14GhlwwwMJr16CgjmRFWk833xZEy2OfpaFZDIqM84=s64",
      "userId": "00311744807213723199"
     },
     "user_tz": -330
    },
    "id": "qsx8F5PJO_kf",
    "outputId": "c9f52e29-8bd4-4a49-84f5-867363c420f3"
   },
   "outputs": [
    {
     "data": {
      "text/plain": [
       "0.7295"
      ]
     },
     "execution_count": 14,
     "metadata": {},
     "output_type": "execute_result"
    }
   ],
   "source": [
    "# Check Accuracy\n",
    "\n",
    "from sklearn.metrics import accuracy_score , confusion_matrix\n",
    "\n",
    "accuracy_score(Ytest , predictions) # good accuracy"
   ]
  },
  {
   "cell_type": "code",
   "execution_count": 15,
   "metadata": {
    "colab": {
     "base_uri": "https://localhost:8080/"
    },
    "executionInfo": {
     "elapsed": 920,
     "status": "ok",
     "timestamp": 1610284709743,
     "user": {
      "displayName": "Abhilash Chintada",
      "photoUrl": "https://lh3.googleusercontent.com/a-/AOh14GhlwwwMJr16CgjmRFWk833xZEy2OfpaFZDIqM84=s64",
      "userId": "00311744807213723199"
     },
     "user_tz": -330
    },
    "id": "3SdCEgbiPFys",
    "outputId": "cc547b0a-b527-42ab-86ed-edc1305e3ad8"
   },
   "outputs": [
    {
     "data": {
      "text/plain": [
       "array([[1422,  182],\n",
       "       [ 359,   37]], dtype=int64)"
      ]
     },
     "execution_count": 15,
     "metadata": {},
     "output_type": "execute_result"
    }
   ],
   "source": [
    "confusion_matrix(Ytest , predictions) \n",
    "# the prection of 'yes' churn customer is big so there is a need to improve the prediction model performance"
   ]
  },
  {
   "cell_type": "code",
   "execution_count": 16,
   "metadata": {},
   "outputs": [
    {
     "name": "stdout",
     "output_type": "stream",
     "text": [
      "              precision    recall  f1-score   support\n",
      "\n",
      "           0       0.80      0.89      0.84      1604\n",
      "           1       0.17      0.09      0.12       396\n",
      "\n",
      "    accuracy                           0.73      2000\n",
      "   macro avg       0.48      0.49      0.48      2000\n",
      "weighted avg       0.67      0.73      0.70      2000\n",
      "\n"
     ]
    }
   ],
   "source": [
    "from sklearn.metrics import classification_report \n",
    "\n",
    "print(classification_report(Ytest , predictions))\n",
    "#looking at the result below, we knew that a lot of the data is predictic to 0, it's imbalanced"
   ]
  },
  {
   "cell_type": "code",
   "execution_count": 18,
   "metadata": {},
   "outputs": [
    {
     "data": {
      "text/plain": [
       "array([[0.],\n",
       "       [0.],\n",
       "       [0.],\n",
       "       ...,\n",
       "       [0.],\n",
       "       [0.],\n",
       "       [1.]], dtype=float32)"
      ]
     },
     "execution_count": 18,
     "metadata": {},
     "output_type": "execute_result"
    }
   ],
   "source": [
    "predictions"
   ]
  },
  {
   "cell_type": "code",
   "execution_count": null,
   "metadata": {
    "id": "xEZY3-VBPYw_"
   },
   "outputs": [],
   "source": []
  }
 ],
 "metadata": {
  "colab": {
   "collapsed_sections": [],
   "name": "NeuralNetwork.ipynb",
   "provenance": []
  },
  "kernelspec": {
   "display_name": "Python 3",
   "language": "python",
   "name": "python3"
  },
  "language_info": {
   "codemirror_mode": {
    "name": "ipython",
    "version": 3
   },
   "file_extension": ".py",
   "mimetype": "text/x-python",
   "name": "python",
   "nbconvert_exporter": "python",
   "pygments_lexer": "ipython3",
   "version": "3.8.3"
  }
 },
 "nbformat": 4,
 "nbformat_minor": 1
}
